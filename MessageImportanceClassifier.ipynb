{
  "cells": [
    {
      "cell_type": "markdown",
      "metadata": {
        "id": "view-in-github",
        "colab_type": "text"
      },
      "source": [
        "<a href=\"https://colab.research.google.com/github/RPramodh/Message-Importance-Classifier/blob/main/MessageImportanceClassifier.ipynb\" target=\"_parent\"><img src=\"https://colab.research.google.com/assets/colab-badge.svg\" alt=\"Open In Colab\"/></a>"
      ]
    },
    {
      "cell_type": "code",
      "execution_count": null,
      "id": "e3e4910a-4637-4479-b822-6fa70cf97bc1",
      "metadata": {
        "tags": [],
        "id": "e3e4910a-4637-4479-b822-6fa70cf97bc1"
      },
      "outputs": [],
      "source": [
        "import pandas as pd"
      ]
    },
    {
      "cell_type": "code",
      "execution_count": null,
      "id": "e83f9359-18a7-4764-bf16-c1c039b75263",
      "metadata": {
        "tags": [],
        "id": "e83f9359-18a7-4764-bf16-c1c039b75263"
      },
      "outputs": [],
      "source": [
        "messages = [\n",
        "    ('Payment Confirmation', 'important'),\n",
        "    ('Appointment Scheduled', 'important'),\n",
        "    ('Order Shipped!', 'important'),\n",
        "    ('Account Security Alert', 'important'),\n",
        "    ('We Want Your Feedback!', 'important'),\n",
        "    ('Renew Your Membership', 'important'),\n",
        "    ('Exclusive Event Invitation', 'important'),\n",
        "    ('Exciting News! New Features Added', 'important'),\n",
        "    ('Account Upgrade Successful', 'important'),\n",
        "    ('Password Changed Successfully', 'important'),\n",
        "    ('Warm Wishes for the Holidays', 'important'),\n",
        "    ('Scheduled Maintenance', 'important'),\n",
        "    ('Important Policy Update', 'important'),\n",
        "    ('Job Application Update', 'important'),\n",
        "    ('Welcome to Our Newsletter!', 'important'),\n",
        "    ('Important Product Recall Notice', 'important'),\n",
        "    ('Your Travel Itinerary', 'important'),\n",
        "    ('Subscription Expiring Soon', 'important'),\n",
        "    ('New Forum Post in TechTalk', 'important'),\n",
        "    ('Celebrating 10 Years Together', 'important'),\n",
        "    ('Celebrating Project Phoenix Milestone', 'important'),\n",
        "    ('Exclusive Discount Inside!', 'important'),\n",
        "    ('Notice of Policy Violation', 'important'),\n",
        "    ('Welcome to the Team!', 'important'),\n",
        "    ('Severe Weather Warning', 'important'),\n",
        "    ('Conference Registration Confirmed', 'important'),\n",
        "    ('New Blog Post: \"The Future of Tech\"', 'important'),\n",
        "    ('Join the Fitness Challenge!', 'important'),\n",
        "    ('Support Ticket Update #123456', 'important'),\n",
        "    ('Tax Document Submission Reminder', 'important'),\n",
        "    ('Unimportant message', 'unimportant'),\n",
        "    ('Another unimportant message', 'unimportant'),\n",
        "    ('Random notification', 'unimportant'),\n",
        "    ('Non-critical update', 'unimportant'),\n",
        "    ('Regular Newsletter', 'unimportant'),\n",
        "    ('General Announcement', 'unimportant'),\n",
        "    ('Routine Maintenance', 'unimportant'),\n",
        "    ('Common Update', 'unimportant'),\n",
        "    ('Reminder: Routine Checkup', 'unimportant'),\n",
        "    ('Normal Forum Post', 'unimportant'),\n",
        "]"
      ]
    },
    {
      "cell_type": "code",
      "execution_count": null,
      "id": "190083e1-81e3-4c55-be3d-8f347c4f5304",
      "metadata": {
        "tags": [],
        "id": "190083e1-81e3-4c55-be3d-8f347c4f5304"
      },
      "outputs": [],
      "source": [
        "df = pd.DataFrame(messages, columns=['Subject', 'Label'])"
      ]
    },
    {
      "cell_type": "code",
      "execution_count": null,
      "id": "d63d98bf-dcaf-4a53-a644-815116aadfa0",
      "metadata": {
        "tags": [],
        "id": "d63d98bf-dcaf-4a53-a644-815116aadfa0",
        "outputId": "52a0fe16-32f7-4080-8376-833b19591984"
      },
      "outputs": [
        {
          "data": {
            "text/html": [
              "<div>\n",
              "<style scoped>\n",
              "    .dataframe tbody tr th:only-of-type {\n",
              "        vertical-align: middle;\n",
              "    }\n",
              "\n",
              "    .dataframe tbody tr th {\n",
              "        vertical-align: top;\n",
              "    }\n",
              "\n",
              "    .dataframe thead th {\n",
              "        text-align: right;\n",
              "    }\n",
              "</style>\n",
              "<table border=\"1\" class=\"dataframe\">\n",
              "  <thead>\n",
              "    <tr style=\"text-align: right;\">\n",
              "      <th></th>\n",
              "      <th>Subject</th>\n",
              "      <th>Label</th>\n",
              "    </tr>\n",
              "  </thead>\n",
              "  <tbody>\n",
              "    <tr>\n",
              "      <th>0</th>\n",
              "      <td>Payment Confirmation</td>\n",
              "      <td>important</td>\n",
              "    </tr>\n",
              "    <tr>\n",
              "      <th>1</th>\n",
              "      <td>Appointment Scheduled</td>\n",
              "      <td>important</td>\n",
              "    </tr>\n",
              "    <tr>\n",
              "      <th>2</th>\n",
              "      <td>Order Shipped!</td>\n",
              "      <td>important</td>\n",
              "    </tr>\n",
              "    <tr>\n",
              "      <th>3</th>\n",
              "      <td>Account Security Alert</td>\n",
              "      <td>important</td>\n",
              "    </tr>\n",
              "    <tr>\n",
              "      <th>4</th>\n",
              "      <td>We Want Your Feedback!</td>\n",
              "      <td>important</td>\n",
              "    </tr>\n",
              "    <tr>\n",
              "      <th>5</th>\n",
              "      <td>Renew Your Membership</td>\n",
              "      <td>important</td>\n",
              "    </tr>\n",
              "    <tr>\n",
              "      <th>6</th>\n",
              "      <td>Exclusive Event Invitation</td>\n",
              "      <td>important</td>\n",
              "    </tr>\n",
              "    <tr>\n",
              "      <th>7</th>\n",
              "      <td>Exciting News! New Features Added</td>\n",
              "      <td>important</td>\n",
              "    </tr>\n",
              "    <tr>\n",
              "      <th>8</th>\n",
              "      <td>Account Upgrade Successful</td>\n",
              "      <td>important</td>\n",
              "    </tr>\n",
              "    <tr>\n",
              "      <th>9</th>\n",
              "      <td>Password Changed Successfully</td>\n",
              "      <td>important</td>\n",
              "    </tr>\n",
              "    <tr>\n",
              "      <th>10</th>\n",
              "      <td>Warm Wishes for the Holidays</td>\n",
              "      <td>important</td>\n",
              "    </tr>\n",
              "    <tr>\n",
              "      <th>11</th>\n",
              "      <td>Scheduled Maintenance</td>\n",
              "      <td>important</td>\n",
              "    </tr>\n",
              "    <tr>\n",
              "      <th>12</th>\n",
              "      <td>Important Policy Update</td>\n",
              "      <td>important</td>\n",
              "    </tr>\n",
              "    <tr>\n",
              "      <th>13</th>\n",
              "      <td>Job Application Update</td>\n",
              "      <td>important</td>\n",
              "    </tr>\n",
              "    <tr>\n",
              "      <th>14</th>\n",
              "      <td>Welcome to Our Newsletter!</td>\n",
              "      <td>important</td>\n",
              "    </tr>\n",
              "    <tr>\n",
              "      <th>15</th>\n",
              "      <td>Important Product Recall Notice</td>\n",
              "      <td>important</td>\n",
              "    </tr>\n",
              "    <tr>\n",
              "      <th>16</th>\n",
              "      <td>Your Travel Itinerary</td>\n",
              "      <td>important</td>\n",
              "    </tr>\n",
              "    <tr>\n",
              "      <th>17</th>\n",
              "      <td>Subscription Expiring Soon</td>\n",
              "      <td>important</td>\n",
              "    </tr>\n",
              "    <tr>\n",
              "      <th>18</th>\n",
              "      <td>New Forum Post in TechTalk</td>\n",
              "      <td>important</td>\n",
              "    </tr>\n",
              "    <tr>\n",
              "      <th>19</th>\n",
              "      <td>Celebrating 10 Years Together</td>\n",
              "      <td>important</td>\n",
              "    </tr>\n",
              "    <tr>\n",
              "      <th>20</th>\n",
              "      <td>Celebrating Project Phoenix Milestone</td>\n",
              "      <td>important</td>\n",
              "    </tr>\n",
              "    <tr>\n",
              "      <th>21</th>\n",
              "      <td>Exclusive Discount Inside!</td>\n",
              "      <td>important</td>\n",
              "    </tr>\n",
              "    <tr>\n",
              "      <th>22</th>\n",
              "      <td>Notice of Policy Violation</td>\n",
              "      <td>important</td>\n",
              "    </tr>\n",
              "    <tr>\n",
              "      <th>23</th>\n",
              "      <td>Welcome to the Team!</td>\n",
              "      <td>important</td>\n",
              "    </tr>\n",
              "    <tr>\n",
              "      <th>24</th>\n",
              "      <td>Severe Weather Warning</td>\n",
              "      <td>important</td>\n",
              "    </tr>\n",
              "    <tr>\n",
              "      <th>25</th>\n",
              "      <td>Conference Registration Confirmed</td>\n",
              "      <td>important</td>\n",
              "    </tr>\n",
              "    <tr>\n",
              "      <th>26</th>\n",
              "      <td>New Blog Post: \"The Future of Tech\"</td>\n",
              "      <td>important</td>\n",
              "    </tr>\n",
              "    <tr>\n",
              "      <th>27</th>\n",
              "      <td>Join the Fitness Challenge!</td>\n",
              "      <td>important</td>\n",
              "    </tr>\n",
              "    <tr>\n",
              "      <th>28</th>\n",
              "      <td>Support Ticket Update #123456</td>\n",
              "      <td>important</td>\n",
              "    </tr>\n",
              "    <tr>\n",
              "      <th>29</th>\n",
              "      <td>Tax Document Submission Reminder</td>\n",
              "      <td>important</td>\n",
              "    </tr>\n",
              "    <tr>\n",
              "      <th>30</th>\n",
              "      <td>Unimportant message</td>\n",
              "      <td>unimportant</td>\n",
              "    </tr>\n",
              "    <tr>\n",
              "      <th>31</th>\n",
              "      <td>Another unimportant message</td>\n",
              "      <td>unimportant</td>\n",
              "    </tr>\n",
              "    <tr>\n",
              "      <th>32</th>\n",
              "      <td>Random notification</td>\n",
              "      <td>unimportant</td>\n",
              "    </tr>\n",
              "    <tr>\n",
              "      <th>33</th>\n",
              "      <td>Non-critical update</td>\n",
              "      <td>unimportant</td>\n",
              "    </tr>\n",
              "    <tr>\n",
              "      <th>34</th>\n",
              "      <td>Regular Newsletter</td>\n",
              "      <td>unimportant</td>\n",
              "    </tr>\n",
              "    <tr>\n",
              "      <th>35</th>\n",
              "      <td>General Announcement</td>\n",
              "      <td>unimportant</td>\n",
              "    </tr>\n",
              "    <tr>\n",
              "      <th>36</th>\n",
              "      <td>Routine Maintenance</td>\n",
              "      <td>unimportant</td>\n",
              "    </tr>\n",
              "    <tr>\n",
              "      <th>37</th>\n",
              "      <td>Common Update</td>\n",
              "      <td>unimportant</td>\n",
              "    </tr>\n",
              "    <tr>\n",
              "      <th>38</th>\n",
              "      <td>Reminder: Routine Checkup</td>\n",
              "      <td>unimportant</td>\n",
              "    </tr>\n",
              "    <tr>\n",
              "      <th>39</th>\n",
              "      <td>Normal Forum Post</td>\n",
              "      <td>unimportant</td>\n",
              "    </tr>\n",
              "  </tbody>\n",
              "</table>\n",
              "</div>"
            ],
            "text/plain": [
              "                                  Subject        Label\n",
              "0                    Payment Confirmation    important\n",
              "1                   Appointment Scheduled    important\n",
              "2                          Order Shipped!    important\n",
              "3                  Account Security Alert    important\n",
              "4                  We Want Your Feedback!    important\n",
              "5                   Renew Your Membership    important\n",
              "6              Exclusive Event Invitation    important\n",
              "7       Exciting News! New Features Added    important\n",
              "8              Account Upgrade Successful    important\n",
              "9           Password Changed Successfully    important\n",
              "10           Warm Wishes for the Holidays    important\n",
              "11                  Scheduled Maintenance    important\n",
              "12                Important Policy Update    important\n",
              "13                 Job Application Update    important\n",
              "14             Welcome to Our Newsletter!    important\n",
              "15        Important Product Recall Notice    important\n",
              "16                  Your Travel Itinerary    important\n",
              "17             Subscription Expiring Soon    important\n",
              "18             New Forum Post in TechTalk    important\n",
              "19          Celebrating 10 Years Together    important\n",
              "20  Celebrating Project Phoenix Milestone    important\n",
              "21             Exclusive Discount Inside!    important\n",
              "22             Notice of Policy Violation    important\n",
              "23                   Welcome to the Team!    important\n",
              "24                 Severe Weather Warning    important\n",
              "25      Conference Registration Confirmed    important\n",
              "26    New Blog Post: \"The Future of Tech\"    important\n",
              "27            Join the Fitness Challenge!    important\n",
              "28          Support Ticket Update #123456    important\n",
              "29       Tax Document Submission Reminder    important\n",
              "30                    Unimportant message  unimportant\n",
              "31            Another unimportant message  unimportant\n",
              "32                    Random notification  unimportant\n",
              "33                    Non-critical update  unimportant\n",
              "34                     Regular Newsletter  unimportant\n",
              "35                   General Announcement  unimportant\n",
              "36                    Routine Maintenance  unimportant\n",
              "37                          Common Update  unimportant\n",
              "38              Reminder: Routine Checkup  unimportant\n",
              "39                      Normal Forum Post  unimportant"
            ]
          },
          "execution_count": 4,
          "metadata": {},
          "output_type": "execute_result"
        }
      ],
      "source": [
        "df"
      ]
    },
    {
      "cell_type": "code",
      "execution_count": null,
      "id": "2128e469-a80c-402f-bdca-d3d4a6163820",
      "metadata": {
        "tags": [],
        "id": "2128e469-a80c-402f-bdca-d3d4a6163820"
      },
      "outputs": [],
      "source": [
        "from sklearn.model_selection import train_test_split\n",
        "from sklearn.feature_extraction.text import TfidfVectorizer\n",
        "from sklearn.naive_bayes import MultinomialNB\n",
        "from sklearn.pipeline import make_pipeline"
      ]
    },
    {
      "cell_type": "code",
      "execution_count": null,
      "id": "429b8e8b-e84b-4ee7-8b51-020f1d996e0b",
      "metadata": {
        "tags": [],
        "id": "429b8e8b-e84b-4ee7-8b51-020f1d996e0b"
      },
      "outputs": [],
      "source": [
        "train_data, test_data, train_labels, test_labels = train_test_split(\n",
        "    df['Subject'], df['Label'], test_size=0.2, random_state=42\n",
        ")"
      ]
    },
    {
      "cell_type": "code",
      "execution_count": null,
      "id": "71cd2bb8-c405-4a12-a927-ed8de8eee4d1",
      "metadata": {
        "tags": [],
        "id": "71cd2bb8-c405-4a12-a927-ed8de8eee4d1",
        "outputId": "71bdec2b-30a4-4d03-aa63-30e30dc82728"
      },
      "outputs": [
        {
          "data": {
            "text/html": [
              "<style>#sk-container-id-1 {color: black;}#sk-container-id-1 pre{padding: 0;}#sk-container-id-1 div.sk-toggleable {background-color: white;}#sk-container-id-1 label.sk-toggleable__label {cursor: pointer;display: block;width: 100%;margin-bottom: 0;padding: 0.3em;box-sizing: border-box;text-align: center;}#sk-container-id-1 label.sk-toggleable__label-arrow:before {content: \"▸\";float: left;margin-right: 0.25em;color: #696969;}#sk-container-id-1 label.sk-toggleable__label-arrow:hover:before {color: black;}#sk-container-id-1 div.sk-estimator:hover label.sk-toggleable__label-arrow:before {color: black;}#sk-container-id-1 div.sk-toggleable__content {max-height: 0;max-width: 0;overflow: hidden;text-align: left;background-color: #f0f8ff;}#sk-container-id-1 div.sk-toggleable__content pre {margin: 0.2em;color: black;border-radius: 0.25em;background-color: #f0f8ff;}#sk-container-id-1 input.sk-toggleable__control:checked~div.sk-toggleable__content {max-height: 200px;max-width: 100%;overflow: auto;}#sk-container-id-1 input.sk-toggleable__control:checked~label.sk-toggleable__label-arrow:before {content: \"▾\";}#sk-container-id-1 div.sk-estimator input.sk-toggleable__control:checked~label.sk-toggleable__label {background-color: #d4ebff;}#sk-container-id-1 div.sk-label input.sk-toggleable__control:checked~label.sk-toggleable__label {background-color: #d4ebff;}#sk-container-id-1 input.sk-hidden--visually {border: 0;clip: rect(1px 1px 1px 1px);clip: rect(1px, 1px, 1px, 1px);height: 1px;margin: -1px;overflow: hidden;padding: 0;position: absolute;width: 1px;}#sk-container-id-1 div.sk-estimator {font-family: monospace;background-color: #f0f8ff;border: 1px dotted black;border-radius: 0.25em;box-sizing: border-box;margin-bottom: 0.5em;}#sk-container-id-1 div.sk-estimator:hover {background-color: #d4ebff;}#sk-container-id-1 div.sk-parallel-item::after {content: \"\";width: 100%;border-bottom: 1px solid gray;flex-grow: 1;}#sk-container-id-1 div.sk-label:hover label.sk-toggleable__label {background-color: #d4ebff;}#sk-container-id-1 div.sk-serial::before {content: \"\";position: absolute;border-left: 1px solid gray;box-sizing: border-box;top: 0;bottom: 0;left: 50%;z-index: 0;}#sk-container-id-1 div.sk-serial {display: flex;flex-direction: column;align-items: center;background-color: white;padding-right: 0.2em;padding-left: 0.2em;position: relative;}#sk-container-id-1 div.sk-item {position: relative;z-index: 1;}#sk-container-id-1 div.sk-parallel {display: flex;align-items: stretch;justify-content: center;background-color: white;position: relative;}#sk-container-id-1 div.sk-item::before, #sk-container-id-1 div.sk-parallel-item::before {content: \"\";position: absolute;border-left: 1px solid gray;box-sizing: border-box;top: 0;bottom: 0;left: 50%;z-index: -1;}#sk-container-id-1 div.sk-parallel-item {display: flex;flex-direction: column;z-index: 1;position: relative;background-color: white;}#sk-container-id-1 div.sk-parallel-item:first-child::after {align-self: flex-end;width: 50%;}#sk-container-id-1 div.sk-parallel-item:last-child::after {align-self: flex-start;width: 50%;}#sk-container-id-1 div.sk-parallel-item:only-child::after {width: 0;}#sk-container-id-1 div.sk-dashed-wrapped {border: 1px dashed gray;margin: 0 0.4em 0.5em 0.4em;box-sizing: border-box;padding-bottom: 0.4em;background-color: white;}#sk-container-id-1 div.sk-label label {font-family: monospace;font-weight: bold;display: inline-block;line-height: 1.2em;}#sk-container-id-1 div.sk-label-container {text-align: center;}#sk-container-id-1 div.sk-container {/* jupyter's `normalize.less` sets `[hidden] { display: none; }` but bootstrap.min.css set `[hidden] { display: none !important; }` so we also need the `!important` here to be able to override the default hidden behavior on the sphinx rendered scikit-learn.org. See: https://github.com/scikit-learn/scikit-learn/issues/21755 */display: inline-block !important;position: relative;}#sk-container-id-1 div.sk-text-repr-fallback {display: none;}</style><div id=\"sk-container-id-1\" class=\"sk-top-container\"><div class=\"sk-text-repr-fallback\"><pre>Pipeline(steps=[(&#x27;tfidfvectorizer&#x27;, TfidfVectorizer()),\n",
              "                (&#x27;multinomialnb&#x27;, MultinomialNB(alpha=2.0))])</pre><b>In a Jupyter environment, please rerun this cell to show the HTML representation or trust the notebook. <br />On GitHub, the HTML representation is unable to render, please try loading this page with nbviewer.org.</b></div><div class=\"sk-container\" hidden><div class=\"sk-item sk-dashed-wrapped\"><div class=\"sk-label-container\"><div class=\"sk-label sk-toggleable\"><input class=\"sk-toggleable__control sk-hidden--visually\" id=\"sk-estimator-id-1\" type=\"checkbox\" ><label for=\"sk-estimator-id-1\" class=\"sk-toggleable__label sk-toggleable__label-arrow\">Pipeline</label><div class=\"sk-toggleable__content\"><pre>Pipeline(steps=[(&#x27;tfidfvectorizer&#x27;, TfidfVectorizer()),\n",
              "                (&#x27;multinomialnb&#x27;, MultinomialNB(alpha=2.0))])</pre></div></div></div><div class=\"sk-serial\"><div class=\"sk-item\"><div class=\"sk-estimator sk-toggleable\"><input class=\"sk-toggleable__control sk-hidden--visually\" id=\"sk-estimator-id-2\" type=\"checkbox\" ><label for=\"sk-estimator-id-2\" class=\"sk-toggleable__label sk-toggleable__label-arrow\">TfidfVectorizer</label><div class=\"sk-toggleable__content\"><pre>TfidfVectorizer()</pre></div></div></div><div class=\"sk-item\"><div class=\"sk-estimator sk-toggleable\"><input class=\"sk-toggleable__control sk-hidden--visually\" id=\"sk-estimator-id-3\" type=\"checkbox\" ><label for=\"sk-estimator-id-3\" class=\"sk-toggleable__label sk-toggleable__label-arrow\">MultinomialNB</label><div class=\"sk-toggleable__content\"><pre>MultinomialNB(alpha=2.0)</pre></div></div></div></div></div></div></div>"
            ],
            "text/plain": [
              "Pipeline(steps=[('tfidfvectorizer', TfidfVectorizer()),\n",
              "                ('multinomialnb', MultinomialNB(alpha=2.0))])"
            ]
          },
          "execution_count": 7,
          "metadata": {},
          "output_type": "execute_result"
        }
      ],
      "source": [
        "model = make_pipeline(TfidfVectorizer(), MultinomialNB(alpha=2.0))\n",
        "model.fit(train_data, train_labels)"
      ]
    },
    {
      "cell_type": "code",
      "execution_count": null,
      "id": "b0fe520a-ab5f-4a89-8189-e5e7f255130c",
      "metadata": {
        "tags": [],
        "id": "b0fe520a-ab5f-4a89-8189-e5e7f255130c"
      },
      "outputs": [],
      "source": [
        "predictions = model.predict(test_data)"
      ]
    },
    {
      "cell_type": "code",
      "execution_count": null,
      "id": "f3d41c4f-e95d-40ec-8cd4-b1fb0b6618aa",
      "metadata": {
        "tags": [],
        "id": "f3d41c4f-e95d-40ec-8cd4-b1fb0b6618aa",
        "outputId": "d805c906-0b27-460d-e800-c2ab881f63a6"
      },
      "outputs": [
        {
          "data": {
            "text/plain": [
              "array(['important', 'important', 'important', 'important', 'important',\n",
              "       'important', 'important', 'important'], dtype='<U11')"
            ]
          },
          "execution_count": 9,
          "metadata": {},
          "output_type": "execute_result"
        }
      ],
      "source": [
        "predictions"
      ]
    },
    {
      "cell_type": "code",
      "execution_count": null,
      "id": "7e62dcb9-6caa-4f04-a1a3-fe3bc8d6afea",
      "metadata": {
        "tags": [],
        "id": "7e62dcb9-6caa-4f04-a1a3-fe3bc8d6afea",
        "outputId": "4b49a1b3-dc7f-4b19-ee45-ebd52d1e66cc"
      },
      "outputs": [
        {
          "data": {
            "text/plain": [
              "0.875"
            ]
          },
          "execution_count": 10,
          "metadata": {},
          "output_type": "execute_result"
        }
      ],
      "source": [
        "model.score(test_data,test_labels)"
      ]
    },
    {
      "cell_type": "code",
      "execution_count": null,
      "id": "9cce07b9-7fce-430e-b6af-f61c18aa7a8c",
      "metadata": {
        "tags": [],
        "id": "9cce07b9-7fce-430e-b6af-f61c18aa7a8c"
      },
      "outputs": [],
      "source": [
        "test_Test = [\n",
        "    \"Thank you for your payment. Your transaction ID is TXN987654.\",\n",
        "    \"Your appointment on 2023-11-02 at 15:00 has been confirmed. Location: ABC Clinic.\",\n",
        "    \"Your order (Order ID: 987654) has been shipped. Track it with Tracking Number: TRK987654.\",\n",
        "    \"We detected unusual activity on your account. Please reset your password.\",\n",
        "    \"Take our survey and share your feedback: [Survey Link].\",\n",
        "    \"Your membership is expiring soon. Renew today to enjoy exclusive benefits.\",\n",
        "    \"Expiring Soon, Please recharge your mobile\"\n",
        "]"
      ]
    },
    {
      "cell_type": "code",
      "execution_count": null,
      "id": "0ef7b264-c6f4-462d-a35b-89a02a35bed2",
      "metadata": {
        "tags": [],
        "id": "0ef7b264-c6f4-462d-a35b-89a02a35bed2"
      },
      "outputs": [],
      "source": [
        "label_Label = ['important', 'important', 'important', 'important', 'unimportant', 'important','important']"
      ]
    },
    {
      "cell_type": "code",
      "execution_count": null,
      "id": "7bd6629a-6cb6-4b82-a0bc-6bb5c30b1210",
      "metadata": {
        "tags": [],
        "id": "7bd6629a-6cb6-4b82-a0bc-6bb5c30b1210",
        "outputId": "cf5fa8d3-5fbd-4cb4-9216-0f0b20919ab9"
      },
      "outputs": [
        {
          "data": {
            "text/plain": [
              "array(['important', 'important', 'important', 'important', 'important',\n",
              "       'important', 'important'], dtype='<U11')"
            ]
          },
          "execution_count": 25,
          "metadata": {},
          "output_type": "execute_result"
        }
      ],
      "source": [
        "model.predict(test_Test)"
      ]
    },
    {
      "cell_type": "code",
      "execution_count": null,
      "id": "e8f85049-6b33-4e66-8a83-51c248c6305d",
      "metadata": {
        "tags": [],
        "id": "e8f85049-6b33-4e66-8a83-51c248c6305d",
        "outputId": "5d7f919e-429a-4899-f21a-fb2ed67945ce"
      },
      "outputs": [
        {
          "data": {
            "text/plain": [
              "0.8571428571428571"
            ]
          },
          "execution_count": 26,
          "metadata": {},
          "output_type": "execute_result"
        }
      ],
      "source": [
        "model.score(test_Test,label_Label)"
      ]
    }
  ],
  "metadata": {
    "kernelspec": {
      "display_name": "Python 3 (ipykernel)",
      "language": "python",
      "name": "python3"
    },
    "language_info": {
      "codemirror_mode": {
        "name": "ipython",
        "version": 3
      },
      "file_extension": ".py",
      "mimetype": "text/x-python",
      "name": "python",
      "nbconvert_exporter": "python",
      "pygments_lexer": "ipython3",
      "version": "3.11.1"
    },
    "colab": {
      "provenance": [],
      "include_colab_link": true
    }
  },
  "nbformat": 4,
  "nbformat_minor": 5
}